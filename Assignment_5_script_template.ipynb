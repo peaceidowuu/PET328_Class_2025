{
 "cells": [
  {
   "cell_type": "markdown",
   "id": "c3e87412",
   "metadata": {},
   "source": [
    "## A script to classify and count 'active' and 'inactive' gridblocks in a discretized reservoir"
   ]
  },
  {
   "cell_type": "code",
   "execution_count": 37,
   "id": "a53afb20",
   "metadata": {},
   "outputs": [
    {
     "name": "stdin",
     "output_type": "stream",
     "text": [
      "How many layers are in the reseroir? 3\n",
      "How many rows are in the reseroir? 2\n",
      "How many columns are in the reseroir? 3\n"
     ]
    }
   ],
   "source": [
    "#################### Task 1 ############################\n",
    "    # Request for reservoir dimensions and discretization parameters\n",
    "layers = int(input('How many layers are in the reseroir?'))\n",
    "rows = int(input('How many rows are in the reseroir?'))\n",
    "columns = int(input('How many columns are in the reseroir?'))"
   ]
  },
  {
   "cell_type": "code",
   "execution_count": 6,
   "id": "559de93e",
   "metadata": {},
   "outputs": [
    {
     "name": "stdin",
     "output_type": "stream",
     "text": [
      "What is the cut-off value? 2\n"
     ]
    }
   ],
   "source": [
    "\n",
    "\n",
    "#################### Task 2 ############################\n",
    "    # Request for the cut-off value\n",
    "cut_off = float(input(\"What is the cut-off value?\"))"
   ]
  },
  {
   "cell_type": "code",
   "execution_count": 134,
   "id": "81bee451",
   "metadata": {},
   "outputs": [],
   "source": [
    "#################### Task 3 ############################\n",
    "    # Initialize counters\n",
    "total_active = 0\n",
    "total_inactive = 0"
   ]
  },
  {
   "cell_type": "code",
   "execution_count": 130,
   "id": "dd77006a",
   "metadata": {},
   "outputs": [
    {
     "name": "stdout",
     "output_type": "stream",
     "text": [
      "Layer 1\n"
     ]
    },
    {
     "name": "stdin",
     "output_type": "stream",
     "text": [
      "What is the permeability of block (Layer 1, Row 1, Column 1) 3.4\n",
      "What is the permeability of block (Layer 1, Row 1, Column 2) 2.4\n",
      "What is the permeability of block (Layer 1, Row 1, Column 3) 0.4\n",
      "What is the permeability of block (Layer 1, Row 2, Column 1) 2.3\n",
      "What is the permeability of block (Layer 1, Row 2, Column 2) 1.4\n",
      "What is the permeability of block (Layer 1, Row 2, Column 3) 0.4\n"
     ]
    },
    {
     "name": "stdout",
     "output_type": "stream",
     "text": [
      "The total number of active gridblocks in layer 1  is 3\n",
      "The total number of inactive gridblocks in  layer 1 is 3\n",
      "Layer 2\n"
     ]
    },
    {
     "name": "stdin",
     "output_type": "stream",
     "text": [
      "What is the permeability of block (Layer 2, Row 1, Column 1) 2.4\n",
      "What is the permeability of block (Layer 2, Row 1, Column 2) 4.1\n",
      "What is the permeability of block (Layer 2, Row 1, Column 3) 0.3\n",
      "What is the permeability of block (Layer 2, Row 2, Column 1) 1.4\n",
      "What is the permeability of block (Layer 2, Row 2, Column 2) 1.5\n",
      "What is the permeability of block (Layer 2, Row 2, Column 3) 9.4\n"
     ]
    },
    {
     "name": "stdout",
     "output_type": "stream",
     "text": [
      "The total number of active gridblocks in layer 2  is 3\n",
      "The total number of inactive gridblocks in  layer 2 is 3\n",
      "Layer 3\n"
     ]
    },
    {
     "name": "stdin",
     "output_type": "stream",
     "text": [
      "What is the permeability of block (Layer 3, Row 1, Column 1) 2.5\n",
      "What is the permeability of block (Layer 3, Row 1, Column 2) 0.3\n",
      "What is the permeability of block (Layer 3, Row 1, Column 3) 0.2\n",
      "What is the permeability of block (Layer 3, Row 2, Column 1) 0.3\n",
      "What is the permeability of block (Layer 3, Row 2, Column 2) 1.2\n",
      "What is the permeability of block (Layer 3, Row 2, Column 3) 1.5\n"
     ]
    },
    {
     "name": "stdout",
     "output_type": "stream",
     "text": [
      "The total number of active gridblocks in layer 3  is 1\n",
      "The total number of inactive gridblocks in  layer 3 is 5\n",
      "The total number of active gridblocks in the entire reservoir is 1\n"
     ]
    }
   ],
   "source": [
    "#################### Task 4 ############################\n",
    "    # Loop through all blocks (nested loop)\n",
    "for layer in range(layers): \n",
    "     total_active_layer = 0\n",
    "     total_inactive_layer = 0\n",
    "     print(f'Layer {layer+1}')\n",
    "     for row in range(rows):  \n",
    "        for col in range(columns):  \n",
    "            permeability = float(input(f'What is the permeability of block (Layer {layer+1}, Row {row+1}, Column {col+1})'))\n",
    "            if permeability >= cut_off:\n",
    "                total_active_layer = total_active_layer + 1\n",
    "                total_active = total_active + 1\n",
    "            else:\n",
    "                total_inactive_layer = total_inactive_layer + 1\n",
    "                total_inactive = total_inactive + 1\n",
    "     print(f'The total number of active gridblocks in layer {layer+1}  is {total_active_layer}')\n",
    "     print(f'The total number of inactive gridblocks in  layer {layer+1} is {total_inactive_layer}')\n",
    "print(f'The total number of active gridblocks in the entire reservoir is {total_active}')\n",
    "         \n",
    "           \n",
    "            \n",
    "    # Initialize layer counter\n",
    "    \n",
    "    # two nested loops go here\n",
    "    \n",
    "\n",
    "    # Print layer count\n",
    "    \n",
    "\n"
   ]
  },
  {
   "cell_type": "code",
   "execution_count": 132,
   "id": "ec00ce2a",
   "metadata": {},
   "outputs": [
    {
     "name": "stdout",
     "output_type": "stream",
     "text": [
      "The total number of active gridblock in the rervoir is 1\n",
      "The percentage of active gridblock is 5.555555555555555\n",
      "The total number of inactive gridblocks in the reservoir is 5\n"
     ]
    }
   ],
   "source": [
    "#################### Task 5 ############################\n",
    "    # Print overall counts\n",
    "total_gridblock = layers*rows*columns\n",
    "percentage_active = (total_active/total_gridblock)*100\n",
    "# Print 'active'\n",
    "print(f'The total number of active gridblock in the rervoir is {total_active}')\n",
    "print(f'The percentage of active gridblock is {percentage_active}')\n",
    "\n",
    "# Print 'inactive'\n",
    "print(f'The total number of inactive gridblocks in the reservoir is {total_inactive}')\n"
   ]
  },
  {
   "cell_type": "code",
   "execution_count": null,
   "id": "14f18fa8-620f-4bfc-bad7-4d0625e8d9c8",
   "metadata": {},
   "outputs": [],
   "source": []
  }
 ],
 "metadata": {
  "kernelspec": {
   "display_name": "Python [conda env:base] *",
   "language": "python",
   "name": "conda-base-py"
  },
  "language_info": {
   "codemirror_mode": {
    "name": "ipython",
    "version": 3
   },
   "file_extension": ".py",
   "mimetype": "text/x-python",
   "name": "python",
   "nbconvert_exporter": "python",
   "pygments_lexer": "ipython3",
   "version": "3.12.7"
  }
 },
 "nbformat": 4,
 "nbformat_minor": 5
}
